{
  "nbformat": 4,
  "nbformat_minor": 0,
  "metadata": {
    "colab": {
      "name": "hw5-part2.ipynb",
      "provenance": [],
      "collapsed_sections": []
    },
    "kernelspec": {
      "name": "python3",
      "display_name": "Python 3"
    },
    "language_info": {
      "name": "python"
    },
    "accelerator": "GPU"
  },
  "cells": [
    {
      "cell_type": "code",
      "metadata": {
        "id": "r5xX2YR5Lpah",
        "colab": {
          "base_uri": "https://localhost:8080/"
        },
        "outputId": "a5eaecde-46ae-4d35-aefb-f0ac6a8c4783"
      },
      "source": [
        "from google.colab import drive\n",
        "drive.mount('/content/gdrive')"
      ],
      "execution_count": null,
      "outputs": [
        {
          "output_type": "stream",
          "text": [
            "Mounted at /content/gdrive\n"
          ],
          "name": "stdout"
        }
      ]
    },
    {
      "cell_type": "code",
      "metadata": {
        "id": "5gvB9Sm7Lubu"
      },
      "source": [
        "!unzip gdrive/My\\ Drive/Data.zip"
      ],
      "execution_count": null,
      "outputs": []
    },
    {
      "cell_type": "code",
      "metadata": {
        "id": "RA6mFEyYLueN"
      },
      "source": [
        "class_names =['Bedroom','Coast','Forest','Highway','Industrial','Inside_City','Kitchen','Livingroom','Mountain','Office',\n",
        "              'Open_Country', 'Store', 'Street', 'Suburb', 'Tall_Building']"
      ],
      "execution_count": null,
      "outputs": []
    },
    {
      "cell_type": "code",
      "metadata": {
        "id": "wpUQYODrLugb"
      },
      "source": [
        "import os\n",
        "import cv2\n",
        "import matplotlib.pyplot as plt\n",
        "import numpy as np\n",
        "from skimage.util import random_noise\n",
        "from skimage.filters import gaussian"
      ],
      "execution_count": null,
      "outputs": []
    },
    {
      "cell_type": "code",
      "metadata": {
        "id": "y2gL0RCILuim"
      },
      "source": [
        "def apply_augmentation():\n",
        "  for name in class_names:\n",
        "    path = '/content/Data/Train/' + name\n",
        "    dirListing = os.listdir(path)\n",
        "    for filename in dirListing:\n",
        "      im = cv2.imread('/content/Data/Train/' + name + '/'+filename)\n",
        "      im =cv2.resize(im,(227,227))\n",
        "      cv2.imwrite('/content/Data/Train/' + name + '/'+filename,im)\n",
        "\n",
        "      flipped = np.fliplr(im)\n",
        "      cv2.imwrite('/content/Data/Train/' + name + '/'+ \"flipped-\"+filename,flipped)\n",
        "\n",
        "      noisyRandom = random_noise(im,var=0.155**2)\n",
        "      cv2.imwrite('/content/Data/Train/' + name + '/'+ \"noisy-\"+filename,flipped)\n",
        "\n",
        "      blurred = gaussian(im,sigma=1,multichannel=True)\n",
        "      cv2.imwrite('/content/Data/Train/' + name + '/'+ \"blurred-\"+filename,flipped)\n",
        "\n",
        "\n",
        "\n",
        "\n",
        "  for name in class_names:\n",
        "    path = '/content/Data/Test/' + name\n",
        "    dirListing = os.listdir(path)\n",
        "    for filename in dirListing:\n",
        "      im = cv2.imread('/content/Data/Test/' + name + '/'+filename)\n",
        "      im =cv2.resize(im,(227,227))\n",
        "      cv2.imwrite('/content/Data/Test/' + name + '/'+filename,im)\n",
        "\n",
        "      \n",
        "      flipped = np.fliplr(im)\n",
        "      cv2.imwrite('/content/Data/Test/' + name + '/'+ \"flipped-\"+filename,flipped)\n",
        "\n",
        "\n",
        "\n",
        "      noisyRandom = random_noise(im,var=0.155**2)\n",
        "      cv2.imwrite('/content/Data/Test/' + name + '/'+ \"noisy-\"+filename,flipped)\n",
        "\n",
        "      blurred = gaussian(im,sigma=1,multichannel=True)\n",
        "      cv2.imwrite('/content/Data/Test/' + name + '/'+ \"blurred-\"+filename,flipped)\n",
        "\n",
        "  return"
      ],
      "execution_count": null,
      "outputs": []
    },
    {
      "cell_type": "code",
      "metadata": {
        "id": "eIfepNBALuk3"
      },
      "source": [
        "def plot_learned(train_loss, train_acc, test_loss, test_acc, train_top5_list, test_top5_list):\n",
        "\n",
        "  fig, axs = plt.subplots(1,3)\n",
        " \n",
        "  axs[0].plot(train_loss,color='blue')\n",
        "  axs[0].plot(test_loss,color='green')\n",
        "  axs[0].set_title('Loss')\n",
        "  axs[0].legend(['Train','Test'])\n",
        "\n",
        "\n",
        "  axs[1].plot(train_acc,color='blue')\n",
        "  axs[1].plot(test_acc,color='green')\n",
        "  axs[1].set_title('Accuracy top1')\n",
        "  axs[1].legend(['Train','Test'])\n",
        "\n",
        "\n",
        "  axs[2].plot(train_top5_list,color='blue')\n",
        "  axs[2].plot(test_top5_list,color='green')\n",
        "  axs[2].set_title('Accuracy top5')\n",
        "  axs[2].legend(['Train','Test'])\n",
        "\n",
        "\n",
        "  fig.set_size_inches(30, 8)\n",
        "\n",
        "\n",
        "  plt.show()\n",
        "\n",
        "  return"
      ],
      "execution_count": null,
      "outputs": []
    },
    {
      "cell_type": "code",
      "metadata": {
        "id": "PbICtCRm9qM2",
        "colab": {
          "base_uri": "https://localhost:8080/"
        },
        "outputId": "0366d34b-6b86-48cb-887c-81fcc6b1eec2"
      },
      "source": [
        "apply_augmentation()\n",
        "print(\"done\")"
      ],
      "execution_count": null,
      "outputs": [
        {
          "output_type": "stream",
          "text": [
            "augmented\n"
          ],
          "name": "stdout"
        }
      ]
    },
    {
      "cell_type": "code",
      "metadata": {
        "id": "hCvFJBS1MBny"
      },
      "source": [
        "import torch\n",
        "import torch.nn as nn\n",
        "import torch.nn.functional as F\n",
        "import torchvision\n",
        "import torchvision.transforms as transforms\n",
        "from torch.optim import SGD"
      ],
      "execution_count": null,
      "outputs": []
    },
    {
      "cell_type": "code",
      "metadata": {
        "id": "UtVwYBdbMBqV"
      },
      "source": [
        "BATCH_SIZE = 32\n",
        "transform = transforms.Compose([\n",
        "        transforms.ToTensor(),\n",
        "        transforms.Normalize(mean=[0.485, 0.456, 0.406], std=[0.229, 0.224, 0.225]),\n",
        "        ])\n",
        "\n",
        "trainset = torchvision.datasets.ImageFolder('/content/Data/Train', transform=transform)\n",
        "trainloader = torch.utils.data.DataLoader(trainset, batch_size=BATCH_SIZE,shuffle=True, num_workers=2)\n",
        "\n",
        "testset = torchvision.datasets.ImageFolder('/content/Data/Test', transform=transform)\n",
        "testloader = torch.utils.data.DataLoader(testset, batch_size=BATCH_SIZE,shuffle=False, num_workers=2)"
      ],
      "execution_count": null,
      "outputs": []
    },
    {
      "cell_type": "code",
      "metadata": {
        "id": "SXTrlIdbMBu1"
      },
      "source": [
        "model = nn.Sequential(\n",
        "    #no.1\n",
        "    nn.BatchNorm2d(3),\n",
        "    nn.Conv2d(in_channels=3, out_channels=96, kernel_size=11, stride=4),  \n",
        "    nn.ReLU(),\n",
        "    nn.LocalResponseNorm(size=5, alpha=0.0001, beta=0.75, k=2),  \n",
        "    nn.MaxPool2d(kernel_size=3, stride=2),  \n",
        "\n",
        "    #no.2\n",
        "    nn.BatchNorm2d(96),\n",
        "    nn.Conv2d(96, 256, 5, padding=2), \n",
        "    nn.ReLU(),\n",
        "    nn.LocalResponseNorm(size=5, alpha=0.0001, beta=0.75, k=2),\n",
        "    nn.MaxPool2d(kernel_size=3, stride=2), \n",
        "\n",
        "    #no.3\n",
        "    nn.Conv2d(256, 256, 3, padding=1),  \n",
        "    nn.ReLU(),\n",
        "    nn.MaxPool2d(kernel_size=2, stride=2),  \n",
        "\n",
        "    \n",
        "    nn.AdaptiveAvgPool2d(output_size=(6, 6)),\n",
        "    nn.Flatten(),\n",
        "\n",
        "    #no.6\n",
        "    nn.Dropout(p=0.5, inplace=True),\n",
        "    nn.Linear(in_features=(256 * 6 * 6), out_features=4096),\n",
        "    nn.ReLU(),\n",
        "\n",
        "    #no.7\n",
        "    nn.Dropout(p=0.5, inplace=True),\n",
        "    nn.Linear(in_features=4096, out_features=4096),\n",
        "    nn.ReLU(),\n",
        "    \n",
        "    #no.8\n",
        "    nn.Linear(in_features=4096, out_features=len(class_names)),\n",
        "    \n",
        "    )"
      ],
      "execution_count": null,
      "outputs": []
    },
    {
      "cell_type": "code",
      "metadata": {
        "id": "V1kRt5uEMBy8",
        "colab": {
          "base_uri": "https://localhost:8080/"
        },
        "outputId": "4805c6b5-071b-4181-df43-6c5a8d4a0bdb"
      },
      "source": [
        "# test the model with 1 batch\n",
        "for images, labels in trainloader:\n",
        "    print(\"batch size:\", images.shape)\n",
        "    out = model(images)\n",
        "    print(out.shape)\n",
        "    break"
      ],
      "execution_count": null,
      "outputs": [
        {
          "output_type": "stream",
          "text": [
            "batch size: torch.Size([32, 3, 227, 227])\n"
          ],
          "name": "stdout"
        },
        {
          "output_type": "stream",
          "text": [
            "/usr/local/lib/python3.7/dist-packages/torch/nn/functional.py:718: UserWarning: Named tensors and all their associated APIs are an experimental feature and subject to change. Please do not use them for anything important until they are released as stable. (Triggered internally at  /pytorch/c10/core/TensorImpl.h:1156.)\n",
            "  return torch.max_pool2d(input, kernel_size, stride, padding, dilation, ceil_mode)\n"
          ],
          "name": "stderr"
        },
        {
          "output_type": "stream",
          "text": [
            "torch.Size([32, 15])\n"
          ],
          "name": "stdout"
        }
      ]
    },
    {
      "cell_type": "code",
      "metadata": {
        "id": "6svT3xMdMB11"
      },
      "source": [
        "# compute accuracy\n",
        "def get_accuracy(logit, target, batch_size):\n",
        "    corrects = (torch.max(logit, 1)[1].view(target.size()).data == target.data).sum()\n",
        "    accuracy = 100.0 * corrects/batch_size\n",
        "    return accuracy.item()"
      ],
      "execution_count": null,
      "outputs": []
    },
    {
      "cell_type": "code",
      "metadata": {
        "id": "ZmnbSO-CQwd_"
      },
      "source": [
        "def get_top5(output, target, topk=(1,5)):\n",
        "    maxk = max(topk)  \n",
        "\n",
        "    _, pred = torch.topk(input=output, k=5, dim=1, largest=True, sorted=True)\n",
        "    pred = pred.t()\n",
        "\n",
        "    target_reshaped = target.view(1, -1).expand_as(pred)  \n",
        "    correct = (pred == target_reshaped)\n",
        "\n",
        "\n",
        "    sum1 = torch.sum(correct, 1)\n",
        "    sum2 = torch.sum(sum1)\n",
        "\n",
        "    return sum2 *100.0 / BATCH_SIZE"
      ],
      "execution_count": null,
      "outputs": []
    },
    {
      "cell_type": "code",
      "metadata": {
        "id": "k3_rjTJnMMde"
      },
      "source": [
        "learning_rate = 0.003\n",
        "num_epochs = 32\n",
        "\n",
        "\n",
        "device = torch.device(\"cuda:0\" if torch.cuda.is_available() else \"cpu\")\n",
        "model=model.to(device)\n",
        "\n",
        "\n",
        "criterion = nn.CrossEntropyLoss()\n",
        "optimizer = SGD(model.parameters(), lr=learning_rate, momentum=0.5)\n",
        "\n",
        "lmbda = lambda epoch: 0.95\n",
        "scheduler = torch.optim.lr_scheduler.MultiplicativeLR(optimizer, lr_lambda=lmbda)"
      ],
      "execution_count": null,
      "outputs": []
    },
    {
      "cell_type": "code",
      "metadata": {
        "id": "Mb0QC7Gc-Ojy"
      },
      "source": [
        "all_train_loss=[]\n",
        "all_train_acc=[]\n",
        "\n",
        "all_test_acc=[]\n",
        "all_test_loss=[]\n",
        "\n",
        "\n",
        "train_top5_list=[]\n",
        "test_top5_list=[]"
      ],
      "execution_count": null,
      "outputs": []
    },
    {
      "cell_type": "code",
      "metadata": {
        "id": "p3hoKogAMMf2",
        "colab": {
          "base_uri": "https://localhost:8080/"
        },
        "outputId": "acf69250-3db2-4065-8fd2-5d38d975f595"
      },
      "source": [
        "for epoch in range(num_epochs):\n",
        "    train_running_loss = 0.0\n",
        "    train_acc = 0.0\n",
        "    train_top5_acc = 0.0\n",
        "\n",
        "    model = model.train()\n",
        "\n",
        "\n",
        "    for i, (images, labels) in enumerate(trainloader):\n",
        "        \n",
        "        images = images.to(device)\n",
        "        labels = labels.to(device)\n",
        "\n",
        "        logits = model(images)\n",
        "        loss = criterion(logits, labels)\n",
        "        optimizer.zero_grad()\n",
        "        loss.backward()\n",
        "\n",
        "        optimizer.step()\n",
        "\n",
        "        train_running_loss += loss.detach().item()\n",
        "        train_acc += get_accuracy(logits, labels, BATCH_SIZE)\n",
        "        train_top5_acc += get_top5(logits, labels)\n",
        "\n",
        "    model.eval()\n",
        "\n",
        "        \n",
        "    test_acc = 0.0\n",
        "    test_running_loss = 0.0\n",
        "    test_top5_acc =0.0\n",
        "\n",
        "    for j, (images, labels) in enumerate(testloader, 0):\n",
        "      images = images.to(device)\n",
        "      labels = labels.to(device)\n",
        "      outputs = model(images)\n",
        "      loss = criterion(outputs, labels)\n",
        "\n",
        "      test_running_loss += loss.detach().item()\n",
        "      test_acc += get_accuracy(outputs, labels, BATCH_SIZE)\n",
        "      test_top5_acc += get_top5(outputs, labels)\n",
        "\n",
        "\n",
        "    scheduler.step()\n",
        "\n",
        "    all_train_loss.append(train_running_loss /i )\n",
        "    all_train_acc.append(train_acc/i)\n",
        "    train_top5_list.append(train_top5_acc/(i))\n",
        "\n",
        "    all_test_loss.append(test_running_loss/j)\n",
        "    all_test_acc.append(test_acc/j)\n",
        "    test_top5_list.append(test_top5_acc/j)\n",
        "\n",
        "\n",
        "    print('Epoch: %d | Loss: %.4f | Train Accuracy: %.2f | Test Accuracy: %.2f | Test loss: %.4f' \\\n",
        "          %(epoch, train_running_loss / i, train_acc/i, test_acc/j, test_running_loss/j))   "
      ],
      "execution_count": null,
      "outputs": [
        {
          "output_type": "stream",
          "text": [
            "Epoch: 0 | Loss: 2.5734 | Train Accuracy: 14.90 | Test Accuracy: 19.42 | Test loss: 2.4126\n",
            "Epoch: 1 | Loss: 2.1103 | Train Accuracy: 30.09 | Test Accuracy: 33.64 | Test loss: 2.0426\n",
            "Epoch: 2 | Loss: 1.7090 | Train Accuracy: 42.60 | Test Accuracy: 44.52 | Test loss: 1.6092\n",
            "Epoch: 3 | Loss: 1.4693 | Train Accuracy: 49.16 | Test Accuracy: 35.34 | Test loss: 2.3325\n",
            "Epoch: 4 | Loss: 1.3252 | Train Accuracy: 54.05 | Test Accuracy: 53.02 | Test loss: 1.4126\n",
            "Epoch: 5 | Loss: 1.1998 | Train Accuracy: 58.34 | Test Accuracy: 55.18 | Test loss: 1.3177\n",
            "Epoch: 6 | Loss: 1.0930 | Train Accuracy: 62.18 | Test Accuracy: 45.86 | Test loss: 2.2075\n",
            "Epoch: 7 | Loss: 1.0025 | Train Accuracy: 65.88 | Test Accuracy: 59.53 | Test loss: 1.2306\n",
            "Epoch: 8 | Loss: 0.9043 | Train Accuracy: 68.88 | Test Accuracy: 63.35 | Test loss: 1.1169\n",
            "Epoch: 9 | Loss: 0.8300 | Train Accuracy: 71.48 | Test Accuracy: 64.41 | Test loss: 1.0816\n",
            "Epoch: 10 | Loss: 0.7609 | Train Accuracy: 74.29 | Test Accuracy: 65.52 | Test loss: 1.0791\n",
            "Epoch: 11 | Loss: 0.7163 | Train Accuracy: 74.79 | Test Accuracy: 66.64 | Test loss: 1.0555\n",
            "Epoch: 12 | Loss: 0.6618 | Train Accuracy: 77.02 | Test Accuracy: 60.96 | Test loss: 1.2906\n",
            "Epoch: 13 | Loss: 0.6298 | Train Accuracy: 78.36 | Test Accuracy: 64.52 | Test loss: 1.1284\n",
            "Epoch: 14 | Loss: 0.5990 | Train Accuracy: 78.95 | Test Accuracy: 66.93 | Test loss: 1.1416\n",
            "Epoch: 15 | Loss: 0.5641 | Train Accuracy: 80.82 | Test Accuracy: 71.44 | Test loss: 0.8908\n",
            "Epoch: 16 | Loss: 0.5314 | Train Accuracy: 81.87 | Test Accuracy: 73.31 | Test loss: 0.8187\n",
            "Epoch: 17 | Loss: 0.5016 | Train Accuracy: 83.03 | Test Accuracy: 69.55 | Test loss: 0.9964\n",
            "Epoch: 18 | Loss: 0.4888 | Train Accuracy: 83.41 | Test Accuracy: 72.99 | Test loss: 0.8659\n",
            "Epoch: 19 | Loss: 0.4648 | Train Accuracy: 84.15 | Test Accuracy: 73.90 | Test loss: 0.8135\n",
            "Epoch: 20 | Loss: 0.4459 | Train Accuracy: 84.94 | Test Accuracy: 73.86 | Test loss: 0.8213\n",
            "Epoch: 21 | Loss: 0.4260 | Train Accuracy: 85.54 | Test Accuracy: 74.83 | Test loss: 0.7759\n",
            "Epoch: 22 | Loss: 0.4054 | Train Accuracy: 86.35 | Test Accuracy: 72.88 | Test loss: 0.8792\n",
            "Epoch: 23 | Loss: 0.3898 | Train Accuracy: 86.84 | Test Accuracy: 75.69 | Test loss: 0.7790\n",
            "Epoch: 24 | Loss: 0.3727 | Train Accuracy: 87.23 | Test Accuracy: 75.18 | Test loss: 0.8066\n",
            "Epoch: 25 | Loss: 0.3624 | Train Accuracy: 87.94 | Test Accuracy: 72.94 | Test loss: 0.8844\n",
            "Epoch: 26 | Loss: 0.3423 | Train Accuracy: 88.21 | Test Accuracy: 74.82 | Test loss: 0.8056\n",
            "Epoch: 27 | Loss: 0.3334 | Train Accuracy: 88.56 | Test Accuracy: 75.84 | Test loss: 0.8055\n",
            "Epoch: 28 | Loss: 0.3210 | Train Accuracy: 89.40 | Test Accuracy: 75.27 | Test loss: 0.8143\n",
            "Epoch: 29 | Loss: 0.3178 | Train Accuracy: 89.29 | Test Accuracy: 63.22 | Test loss: 1.4915\n",
            "Epoch: 30 | Loss: 0.3192 | Train Accuracy: 89.05 | Test Accuracy: 75.90 | Test loss: 0.7911\n",
            "Epoch: 31 | Loss: 0.2979 | Train Accuracy: 89.89 | Test Accuracy: 75.89 | Test loss: 0.8000\n",
            "Epoch: 32 | Loss: 0.2884 | Train Accuracy: 90.24 | Test Accuracy: 76.50 | Test loss: 0.7780\n",
            "Epoch: 33 | Loss: 0.2862 | Train Accuracy: 90.58 | Test Accuracy: 76.22 | Test loss: 0.7908\n",
            "Epoch: 34 | Loss: 0.2730 | Train Accuracy: 90.99 | Test Accuracy: 75.79 | Test loss: 0.7818\n",
            "Epoch: 35 | Loss: 0.2669 | Train Accuracy: 91.15 | Test Accuracy: 76.02 | Test loss: 0.8034\n",
            "Epoch: 36 | Loss: 0.2634 | Train Accuracy: 91.06 | Test Accuracy: 75.43 | Test loss: 0.8353\n",
            "Epoch: 37 | Loss: 0.2579 | Train Accuracy: 91.10 | Test Accuracy: 75.38 | Test loss: 0.8261\n",
            "Epoch: 38 | Loss: 0.2551 | Train Accuracy: 91.35 | Test Accuracy: 75.67 | Test loss: 0.8235\n",
            "Epoch: 39 | Loss: 0.2509 | Train Accuracy: 91.49 | Test Accuracy: 75.50 | Test loss: 0.8471\n"
          ],
          "name": "stdout"
        }
      ]
    },
    {
      "cell_type": "code",
      "metadata": {
        "id": "QSjrB52CMMiV",
        "colab": {
          "base_uri": "https://localhost:8080/",
          "height": 320
        },
        "outputId": "e8a43943-b41b-40e5-a0ff-cb3b2ab4bdae"
      },
      "source": [
        "plot_learned(all_train_loss,all_train_acc,all_test_loss,all_test_acc,train_top5_list, test_top5_list)"
      ],
      "execution_count": null,
      "outputs": [
        {
          "output_type": "display_data",
          "data": {
            "image/png": "[encoded data removed]",
            "text/plain": [
              "<Figure size 2160x576 with 3 Axes>"
            ]
          },
          "metadata": {
            "tags": [],
            "needs_background": "light"
          }
        }
      ]
    },
    {
      "cell_type": "code",
      "metadata": {
        "id": "v9uFDtI_MMk-"
      },
      "source": [
        ""
      ],
      "execution_count": null,
      "outputs": []
    }
  ]
}