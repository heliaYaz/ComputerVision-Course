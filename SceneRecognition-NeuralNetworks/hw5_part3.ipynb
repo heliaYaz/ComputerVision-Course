{
  "nbformat": 4,
  "nbformat_minor": 0,
  "metadata": {
    "accelerator": "GPU",
    "colab": {
      "name": "hw5-part3.ipynb",
      "provenance": [],
      "collapsed_sections": []
    },
    "kernelspec": {
      "display_name": "Python 3",
      "name": "python3"
    },
    "language_info": {
      "name": "python"
    }
  },
  "cells": [
    {
      "cell_type": "code",
      "metadata": {
        "colab": {
          "base_uri": "https://localhost:8080/"
        },
        "id": "eL_NAfKZKUle",
        "outputId": "247ef3a9-9833-46d8-bab4-d73b54319b4e"
      },
      "source": [
        "from google.colab import drive\n",
        "drive.mount('/content/gdrive')"
      ],
      "execution_count": 1,
      "outputs": [
        {
          "output_type": "stream",
          "text": [
            "Mounted at /content/gdrive\n"
          ],
          "name": "stdout"
        }
      ]
    },
    {
      "cell_type": "code",
      "metadata": {
        "id": "-5PwwkUlKZA8"
      },
      "source": [
        "!unzip gdrive/My\\ Drive/Data.zip"
      ],
      "execution_count": null,
      "outputs": []
    },
    {
      "cell_type": "code",
      "metadata": {
        "id": "HA2XsjNRKZDS"
      },
      "source": [
        "class_names =['Bedroom','Coast','Forest','Highway','Industrial','Inside_City','Kitchen','Livingroom','Mountain','Office',\n",
        "              'Open_Country', 'Store', 'Street', 'Suburb', 'Tall_Building']"
      ],
      "execution_count": 3,
      "outputs": []
    },
    {
      "cell_type": "code",
      "metadata": {
        "id": "1UYZy4bnKZFu"
      },
      "source": [
        "import os\n",
        "import cv2\n",
        "import matplotlib.pyplot as plt\n",
        "import numpy as np\n",
        "from skimage.util import random_noise\n",
        "from skimage.filters import gaussian"
      ],
      "execution_count": 4,
      "outputs": []
    },
    {
      "cell_type": "code",
      "metadata": {
        "id": "REQZje6cKZIK"
      },
      "source": [
        "def apply_augmentation():\n",
        "  for name in class_names:\n",
        "    path = '/content/Data/Train/' + name\n",
        "    dirListing = os.listdir(path)\n",
        "    for filename in dirListing:\n",
        "      im = cv2.imread('/content/Data/Train/' + name + '/'+filename)\n",
        "      im =cv2.resize(im,(227,227))\n",
        "      cv2.imwrite('/content/Data/Train/' + name + '/'+filename,im)\n",
        "\n",
        "      flipped = np.fliplr(im)\n",
        "      cv2.imwrite('/content/Data/Train/' + name + '/'+ \"flipped-\"+filename,flipped)\n",
        "\n",
        "      noisyRandom = random_noise(im,var=0.155**2)\n",
        "      cv2.imwrite('/content/Data/Train/' + name + '/'+ \"noisy-\"+filename,flipped)\n",
        "\n",
        "      blurred = gaussian(im,sigma=1,multichannel=True)\n",
        "      cv2.imwrite('/content/Data/Train/' + name + '/'+ \"blurred-\"+filename,flipped)\n",
        "\n",
        "\n",
        "\n",
        "\n",
        "  for name in class_names:\n",
        "    path = '/content/Data/Test/' + name\n",
        "    dirListing = os.listdir(path)\n",
        "    for filename in dirListing:\n",
        "      im = cv2.imread('/content/Data/Test/' + name + '/'+filename)\n",
        "      im =cv2.resize(im,(227,227))\n",
        "      cv2.imwrite('/content/Data/Test/' + name + '/'+filename,im)\n",
        "\n",
        "      \n",
        "      flipped = np.fliplr(im)\n",
        "      cv2.imwrite('/content/Data/Test/' + name + '/'+ \"flipped-\"+filename,flipped)\n",
        "\n",
        "\n",
        "\n",
        "      noisyRandom = random_noise(im,var=0.155**2)\n",
        "      cv2.imwrite('/content/Data/Test/' + name + '/'+ \"noisy-\"+filename,flipped)\n",
        "\n",
        "      blurred = gaussian(im,sigma=1,multichannel=True)\n",
        "      cv2.imwrite('/content/Data/Test/' + name + '/'+ \"blurred-\"+filename,flipped)\n",
        "\n",
        "  return"
      ],
      "execution_count": 5,
      "outputs": []
    },
    {
      "cell_type": "code",
      "metadata": {
        "id": "C30gGOQFKZKl"
      },
      "source": [
        "def plot_learned(train_loss, train_acc, test_loss, test_acc, train_top5_list, test_top5_list):\n",
        "\n",
        "  fig, axs = plt.subplots(1,3)\n",
        " \n",
        "  axs[0].plot(train_loss,color='blue')\n",
        "  axs[0].plot(test_loss,color='green')\n",
        "  axs[0].set_title('Loss')\n",
        "  axs[0].legend(['Train','Test'])\n",
        "\n",
        "\n",
        "  axs[1].plot(train_acc,color='blue')\n",
        "  axs[1].plot(test_acc,color='green')\n",
        "  axs[1].set_title('Accuracy top1')\n",
        "  axs[1].legend(['Train','Test'])\n",
        "\n",
        "\n",
        "  axs[2].plot(train_top5_list,color='blue')\n",
        "  axs[2].plot(test_top5_list,color='green')\n",
        "  axs[2].set_title('Accuracy top5')\n",
        "  axs[2].legend(['Train','Test'])\n",
        "\n",
        "\n",
        "  fig.set_size_inches(30, 8)\n",
        "\n",
        "\n",
        "  plt.show()\n",
        "\n",
        "  return"
      ],
      "execution_count": 6,
      "outputs": []
    },
    {
      "cell_type": "code",
      "metadata": {
        "id": "mFFbuu8jSIN9",
        "colab": {
          "base_uri": "https://localhost:8080/"
        },
        "outputId": "a475c66f-b00c-4da5-fb11-f33c8cf69a9b"
      },
      "source": [
        "apply_augmentation()\n",
        "print(\"done\")"
      ],
      "execution_count": 7,
      "outputs": [
        {
          "output_type": "stream",
          "text": [
            "done\n"
          ],
          "name": "stdout"
        }
      ]
    },
    {
      "cell_type": "code",
      "metadata": {
        "id": "0vAZHEmQKZNL"
      },
      "source": [
        "import torch\n",
        "import torch.nn as nn\n",
        "import torch.nn.functional as F\n",
        "import torchvision\n",
        "import torchvision.transforms as transforms\n",
        "from torch.optim import SGD"
      ],
      "execution_count": 10,
      "outputs": []
    },
    {
      "cell_type": "code",
      "metadata": {
        "id": "BdBGQF0pKjjk"
      },
      "source": [
        "BATCH_SIZE = 64\n",
        "transform = transforms.Compose([\n",
        "        transforms.Resize((227,227)),\n",
        "        transforms.ToTensor(),\n",
        "        transforms.Normalize(mean=[0.485, 0.456, 0.406], std=[0.229, 0.224, 0.225]),\n",
        "        ])\n",
        "\n",
        "trainset = torchvision.datasets.ImageFolder('/content/Data/Train', transform=transform)\n",
        "trainloader = torch.utils.data.DataLoader(trainset, batch_size=BATCH_SIZE,shuffle=True, num_workers=2)\n",
        "\n",
        "testset = torchvision.datasets.ImageFolder('/content/Data/Test', transform=transform)\n",
        "testloader = torch.utils.data.DataLoader(testset, batch_size=BATCH_SIZE,shuffle=False, num_workers=2)"
      ],
      "execution_count": 11,
      "outputs": []
    },
    {
      "cell_type": "code",
      "metadata": {
        "id": "JSxpSU1IKjoz"
      },
      "source": [
        "model = nn.Sequential(\n",
        "    #no.1\n",
        "    nn.Conv2d(in_channels=3, out_channels=96, kernel_size=11, stride=4),  \n",
        "    nn.ReLU(),\n",
        "    nn.LocalResponseNorm(size=5, alpha=0.0001, beta=0.75, k=2),  \n",
        "    nn.MaxPool2d(kernel_size=3, stride=2), \n",
        "\n",
        "    #no.2\n",
        "    nn.BatchNorm2d(96),\n",
        "    nn.Conv2d(96, 256, 5, padding=2),  \n",
        "    nn.ReLU(),\n",
        "    nn.LocalResponseNorm(size=5, alpha=0.0001, beta=0.75, k=2),\n",
        "    nn.MaxPool2d(kernel_size=3, stride=2),  \n",
        "\n",
        "    #no.3\n",
        "    nn.BatchNorm2d(256),\n",
        "    nn.Conv2d(256, 384, 3,stride=2, padding=1),  \n",
        "    nn.ReLU(),\n",
        "\n",
        "    #no.4\n",
        "    nn.BatchNorm2d(384),\n",
        "    nn.Conv2d(384, 384, 3, padding=1),  \n",
        "    nn.ReLU(),\n",
        "\n",
        "    #no.5\n",
        "    nn.Conv2d(384, 256, 3, padding=1),  \n",
        "    nn.ReLU(),\n",
        "    nn.MaxPool2d(kernel_size=3, stride=2),\n",
        "    \n",
        "    \n",
        "    nn.AdaptiveAvgPool2d(output_size=(6, 6)),\n",
        "    nn.Flatten(),\n",
        "\n",
        "    #no.6\n",
        "    nn.Dropout(p=0.5, inplace=True),\n",
        "    nn.Linear(in_features=(256 * 6 * 6), out_features=4096),\n",
        "    nn.ReLU(),\n",
        "\n",
        "    #no.7\n",
        "    nn.Dropout(p=0.5, inplace=True),\n",
        "    nn.Linear(in_features=4096, out_features=4096),\n",
        "    nn.ReLU(),\n",
        "    \n",
        "    #no.8\n",
        "    nn.Linear(in_features=4096, out_features=len(class_names)),\n",
        "\n",
        "    )"
      ],
      "execution_count": 34,
      "outputs": []
    },
    {
      "cell_type": "code",
      "metadata": {
        "colab": {
          "base_uri": "https://localhost:8080/"
        },
        "id": "D4HU8-iQK0m_",
        "outputId": "460df0b3-a924-4738-c1e0-1fa6fad41fab"
      },
      "source": [
        "## test the model with 1 batch\n",
        "for images, labels in trainloader:\n",
        "    print(\"batch size:\", images.shape)\n",
        "    out = model(images)\n",
        "    print(out.shape)\n",
        "    break"
      ],
      "execution_count": 35,
      "outputs": [
        {
          "output_type": "stream",
          "text": [
            "batch size: torch.Size([64, 3, 227, 227])\n",
            "torch.Size([64, 15])\n"
          ],
          "name": "stdout"
        }
      ]
    },
    {
      "cell_type": "code",
      "metadata": {
        "id": "ebS1izrCK0pi"
      },
      "source": [
        "## compute accuracy\n",
        "def get_accuracy(logit, target, batch_size):\n",
        "    ''' Obtain accuracy for training round '''\n",
        "    corrects = (torch.max(logit, 1)[1].view(target.size()).data == target.data).sum()\n",
        "    accuracy = 100.0 * corrects/batch_size\n",
        "    return accuracy.item()"
      ],
      "execution_count": 36,
      "outputs": []
    },
    {
      "cell_type": "code",
      "metadata": {
        "id": "QPErk3hdSaf1"
      },
      "source": [
        "def get_top5(output, target, topk=(1,5)):\n",
        "    maxk = max(topk)  \n",
        "\n",
        "    _, pred = torch.topk(input=output, k=5, dim=1, largest=True, sorted=True)\n",
        "    pred = pred.t()\n",
        "\n",
        "    target_reshaped = target.view(1, -1).expand_as(pred)  \n",
        "    correct = (pred == target_reshaped)\n",
        "\n",
        "\n",
        "    sum1 = torch.sum(correct, 1)\n",
        "    sum2 = torch.sum(sum1)\n",
        "\n",
        "    return sum2 *100.0 / BATCH_SIZE"
      ],
      "execution_count": 37,
      "outputs": []
    },
    {
      "cell_type": "code",
      "metadata": {
        "id": "wd4j8oDmK0r3"
      },
      "source": [
        "learning_rate = 0.001\n",
        "num_epochs = 50\n",
        "\n",
        "\n",
        "device = torch.device(\"cuda:0\" if torch.cuda.is_available() else \"cpu\")\n",
        "model=model.to(device)\n",
        "\n",
        "\n",
        "criterion = nn.CrossEntropyLoss()\n",
        "optimizer = SGD(model.parameters(), lr=learning_rate, momentum=0.5)\n",
        "\n",
        "lmbda = lambda epoch: 0.95\n",
        "scheduler = torch.optim.lr_scheduler.MultiplicativeLR(optimizer, lr_lambda=lmbda)"
      ],
      "execution_count": 38,
      "outputs": []
    },
    {
      "cell_type": "code",
      "metadata": {
        "id": "55ZcnbWPSeM_"
      },
      "source": [
        "all_train_loss=[]\n",
        "all_train_acc=[]\n",
        "\n",
        "all_test_acc=[]\n",
        "all_test_loss=[]\n",
        "\n",
        "\n",
        "train_top5_list=[]\n",
        "test_top5_list=[]"
      ],
      "execution_count": 39,
      "outputs": []
    },
    {
      "cell_type": "code",
      "metadata": {
        "colab": {
          "base_uri": "https://localhost:8080/",
          "height": 419
        },
        "id": "5XFG95ZXK0vJ",
        "outputId": "63118c78-2ec6-4469-add8-9efb02fca678"
      },
      "source": [
        "for epoch in range(num_epochs):\n",
        "    train_running_loss = 0.0\n",
        "    train_acc = 0.0\n",
        "    train_top5_acc = 0.0\n",
        "\n",
        "    model = model.train()\n",
        "\n",
        "    for i, (images, labels) in enumerate(trainloader):\n",
        "        \n",
        "        images = images.to(device)\n",
        "        labels = labels.to(device)\n",
        "\n",
        "        logits = model(images)\n",
        "        loss = criterion(logits, labels)\n",
        "        optimizer.zero_grad()\n",
        "        loss.backward()\n",
        "\n",
        "        optimizer.step()\n",
        "\n",
        "        train_running_loss += loss.detach().item()\n",
        "        train_acc += get_accuracy(logits, labels, BATCH_SIZE)\n",
        "        train_top5_acc += get_top5(logits, labels)\n",
        "\n",
        "    model.eval()\n",
        "\n",
        "\n",
        "    test_acc = 0.0\n",
        "    test_running_loss = 0.0\n",
        "    test_top5_acc =0.0\n",
        "\n",
        "    for j, (images, labels) in enumerate(testloader, 0):\n",
        "\n",
        "      images = images.to(device)\n",
        "      labels = labels.to(device)\n",
        "\n",
        "      outputs = model(images)\n",
        "      loss = criterion(outputs, labels)\n",
        "\n",
        "      test_running_loss += loss.detach().item()\n",
        "      test_acc += get_accuracy(outputs, labels, BATCH_SIZE)\n",
        "      test_top5_acc += get_top5(outputs, labels)\n",
        "\n",
        "\n",
        "    scheduler.step()\n",
        "\n",
        "    all_train_loss.append(train_running_loss /i )\n",
        "    all_train_acc.append(train_acc/i)\n",
        "    train_top5_list.append(train_top5_acc/(i))\n",
        "\n",
        "    all_test_loss.append(test_running_loss/j)\n",
        "    all_test_acc.append(test_acc/j)\n",
        "    test_top5_list.append(test_top5_acc/j)\n",
        "\n",
        "    print('Epoch: %d | Loss: %.4f | Train Accuracy: %.2f | Test Accuracy: %.2f | Test loss: %.4f' \\\n",
        "          %(epoch, train_running_loss / i, train_acc/i, test_acc/j, test_running_loss/j)) "
      ],
      "execution_count": 42,
      "outputs": [
        {
          "output_type": "stream",
          "text": [
            "Epoch: 0 | Loss: 0.5647 | Train Accuracy: 80.80 | Test Accuracy: 67.07 | Test loss: 1.0139\n",
            "Epoch: 1 | Loss: 0.5584 | Train Accuracy: 81.19 | Test Accuracy: 65.41 | Test loss: 1.0506\n",
            "Epoch: 2 | Loss: 0.5400 | Train Accuracy: 81.59 | Test Accuracy: 66.53 | Test loss: 1.0180\n",
            "Epoch: 3 | Loss: 0.5286 | Train Accuracy: 82.26 | Test Accuracy: 68.26 | Test loss: 1.0156\n",
            "Epoch: 4 | Loss: 0.5210 | Train Accuracy: 82.67 | Test Accuracy: 67.12 | Test loss: 0.9965\n",
            "Epoch: 5 | Loss: 0.5161 | Train Accuracy: 82.72 | Test Accuracy: 67.89 | Test loss: 0.9985\n",
            "Epoch: 6 | Loss: 0.5004 | Train Accuracy: 83.40 | Test Accuracy: 68.25 | Test loss: 0.9930\n",
            "Epoch: 7 | Loss: 0.4895 | Train Accuracy: 83.78 | Test Accuracy: 67.99 | Test loss: 0.9957\n",
            "Epoch: 8 | Loss: 0.4905 | Train Accuracy: 83.69 | Test Accuracy: 67.86 | Test loss: 0.9921\n",
            "Epoch: 9 | Loss: 0.4762 | Train Accuracy: 84.75 | Test Accuracy: 67.91 | Test loss: 1.0092\n",
            "Epoch: 10 | Loss: 0.4761 | Train Accuracy: 84.14 | Test Accuracy: 68.41 | Test loss: 0.9741\n"
          ],
          "name": "stdout"
        },
        {
          "output_type": "error",
          "ename": "KeyboardInterrupt",
          "evalue": "ignored",
          "traceback": [
            "\u001b[0;31m---------------------------------------------------------------------------\u001b[0m",
            "\u001b[0;31mKeyboardInterrupt\u001b[0m                         Traceback (most recent call last)",
            "\u001b[0;32m<ipython-input-42-5fdcd52d7429>\u001b[0m in \u001b[0;36m<module>\u001b[0;34m()\u001b[0m\n\u001b[1;32m     18\u001b[0m         \u001b[0moptimizer\u001b[0m\u001b[0;34m.\u001b[0m\u001b[0mstep\u001b[0m\u001b[0;34m(\u001b[0m\u001b[0;34m)\u001b[0m\u001b[0;34m\u001b[0m\u001b[0;34m\u001b[0m\u001b[0m\n\u001b[1;32m     19\u001b[0m \u001b[0;34m\u001b[0m\u001b[0m\n\u001b[0;32m---> 20\u001b[0;31m         \u001b[0mtrain_running_loss\u001b[0m \u001b[0;34m+=\u001b[0m \u001b[0mloss\u001b[0m\u001b[0;34m.\u001b[0m\u001b[0mdetach\u001b[0m\u001b[0;34m(\u001b[0m\u001b[0;34m)\u001b[0m\u001b[0;34m.\u001b[0m\u001b[0mitem\u001b[0m\u001b[0;34m(\u001b[0m\u001b[0;34m)\u001b[0m\u001b[0;34m\u001b[0m\u001b[0;34m\u001b[0m\u001b[0m\n\u001b[0m\u001b[1;32m     21\u001b[0m         \u001b[0mtrain_acc\u001b[0m \u001b[0;34m+=\u001b[0m \u001b[0mget_accuracy\u001b[0m\u001b[0;34m(\u001b[0m\u001b[0mlogits\u001b[0m\u001b[0;34m,\u001b[0m \u001b[0mlabels\u001b[0m\u001b[0;34m,\u001b[0m \u001b[0mBATCH_SIZE\u001b[0m\u001b[0;34m)\u001b[0m\u001b[0;34m\u001b[0m\u001b[0;34m\u001b[0m\u001b[0m\n\u001b[1;32m     22\u001b[0m         \u001b[0mtrain_top5_acc\u001b[0m \u001b[0;34m+=\u001b[0m \u001b[0mget_top5\u001b[0m\u001b[0;34m(\u001b[0m\u001b[0mlogits\u001b[0m\u001b[0;34m,\u001b[0m \u001b[0mlabels\u001b[0m\u001b[0;34m)\u001b[0m\u001b[0;34m\u001b[0m\u001b[0;34m\u001b[0m\u001b[0m\n",
            "\u001b[0;31mKeyboardInterrupt\u001b[0m: "
          ]
        }
      ]
    },
    {
      "cell_type": "code",
      "metadata": {
        "id": "_R4-54lyK0zr",
        "colab": {
          "base_uri": "https://localhost:8080/",
          "height": 388
        },
        "outputId": "cdc3f568-25d9-4ff6-ba19-1ff68ba4197c"
      },
      "source": [
        "plot_learned(all_train_loss,all_train_acc,all_test_loss,all_test_acc,train_top5_list, test_top5_list)"
      ],
      "execution_count": 43,
      "outputs": [
        {
          "output_type": "display_data",
          "data": {
            "image/png": "[encoded data removed]",
            "text/plain": [
              "<Figure size 2160x576 with 3 Axes>"
            ]
          },
          "metadata": {
            "tags": [],
            "needs_background": "light"
          }
        }
      ]
    }
  ]
}