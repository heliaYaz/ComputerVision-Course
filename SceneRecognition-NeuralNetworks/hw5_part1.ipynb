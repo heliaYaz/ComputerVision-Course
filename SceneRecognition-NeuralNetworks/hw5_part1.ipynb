{
  "nbformat": 4,
  "nbformat_minor": 0,
  "metadata": {
    "colab": {
      "name": "hw5-part1.ipynb",
      "provenance": [],
      "collapsed_sections": []
    },
    "kernelspec": {
      "name": "python3",
      "display_name": "Python 3"
    },
    "language_info": {
      "name": "python"
    },
    "accelerator": "GPU"
  },
  "cells": [
    {
      "cell_type": "code",
      "metadata": {
        "colab": {
          "base_uri": "https://localhost:8080/"
        },
        "id": "IkPftppeqlFa",
        "outputId": "d5659d3e-237a-4b9e-d040-994f3a7df59b"
      },
      "source": [
        "from google.colab import drive\n",
        "drive.mount('/content/gdrive')"
      ],
      "execution_count": null,
      "outputs": [
        {
          "output_type": "stream",
          "text": [
            "Drive already mounted at /content/gdrive; to attempt to forcibly remount, call drive.mount(\"/content/gdrive\", force_remount=True).\n"
          ],
          "name": "stdout"
        }
      ]
    },
    {
      "cell_type": "code",
      "metadata": {
        "id": "k5WXLaWtqo4c",
        "colab": {
          "base_uri": "https://localhost:8080/"
        },
        "outputId": "825c8d84-2cd6-48ec-a048-938b6e50a387"
      },
      "source": [
        "!unzip gdrive/My\\ Drive/Data.zip"
      ],
      "execution_count": null,
      "outputs": [
        {
          "output_type": "stream",
          "text": [
            "Archive:  gdrive/My Drive/Data.zip\n",
            "replace Data/Test/Bedroom/image_0004.jpg? [y]es, [n]o, [A]ll, [N]one, [r]ename: "
          ],
          "name": "stdout"
        }
      ]
    },
    {
      "cell_type": "code",
      "metadata": {
        "id": "ubZQuPKpqqVN"
      },
      "source": [
        "class_names =['Bedroom','Coast','Forest','Highway','Industrial','Inside_City','Kitchen','Livingroom','Mountain','Office',\n",
        "              'Open_Country', 'Store', 'Street', 'Suburb', 'Tall_Building']"
      ],
      "execution_count": null,
      "outputs": []
    },
    {
      "cell_type": "code",
      "metadata": {
        "id": "TaG3YnZ0qqXM"
      },
      "source": [
        "import os\n",
        "import cv2\n",
        "import numpy as np\n",
        "import matplotlib.pyplot as plt\n",
        "from skimage.util import random_noise\n",
        "from skimage.filters import gaussian"
      ],
      "execution_count": null,
      "outputs": []
    },
    {
      "cell_type": "code",
      "metadata": {
        "id": "JAdX6QC6qqbc"
      },
      "source": [
        "def apply_augmentation():\n",
        "  for name in class_names:\n",
        "    path = '/content/Data/Train/' + name\n",
        "    dirListing = os.listdir(path)\n",
        "    for filename in dirListing:\n",
        "      im = cv2.imread('/content/Data/Train/' + name + '/'+filename)\n",
        "      im =cv2.resize(im,(224,224))\n",
        "      cv2.imwrite('/content/Data/Train/' + name + '/'+filename,im)\n",
        "\n",
        "      flipped = np.fliplr(im)\n",
        "      cv2.imwrite('/content/Data/Train/' + name + '/'+ \"flipped-\"+filename,flipped)\n",
        "\n",
        "      noisyRandom = random_noise(im,var=0.155**2)\n",
        "      cv2.imwrite('/content/Data/Train/' + name + '/'+ \"noisy-\"+filename,flipped)\n",
        "\n",
        "      blurred = gaussian(im,sigma=1,multichannel=True)\n",
        "      cv2.imwrite('/content/Data/Train/' + name + '/'+ \"blurred-\"+filename,flipped)\n",
        "\n",
        "\n",
        "\n",
        "\n",
        "  for name in class_names:\n",
        "    path = '/content/Data/Test/' + name\n",
        "    dirListing = os.listdir(path)\n",
        "    for filename in dirListing:\n",
        "      im = cv2.imread('/content/Data/Test/' + name + '/'+filename)\n",
        "      im =cv2.resize(im,(224,224))\n",
        "      cv2.imwrite('/content/Data/Test/' + name + '/'+filename,im)\n",
        "\n",
        "      \n",
        "      flipped = np.fliplr(im)\n",
        "      cv2.imwrite('/content/Data/Test/' + name + '/'+ \"flipped-\"+filename,flipped)\n",
        "\n",
        "\n",
        "\n",
        "      noisyRandom = random_noise(im,var=0.155**2)\n",
        "      cv2.imwrite('/content/Data/Test/' + name + '/'+ \"noisy-\"+filename,flipped)\n",
        "\n",
        "      blurred = gaussian(im,sigma=1,multichannel=True)\n",
        "      cv2.imwrite('/content/Data/Test/' + name + '/'+ \"blurred-\"+filename,flipped)\n",
        "\n",
        "  return"
      ],
      "execution_count": null,
      "outputs": []
    },
    {
      "cell_type": "code",
      "metadata": {
        "id": "eZnWDuNB6a6B"
      },
      "source": [
        "def plot_learned(train_loss, train_acc, test_loss, test_acc, train_top5_list, test_top5_list):\n",
        "\n",
        "  fig, axs = plt.subplots(1,3)\n",
        " \n",
        "  axs[0].plot(train_loss,color='blue')\n",
        "  axs[0].plot(test_loss,color='green')\n",
        "  axs[0].set_title('Loss')\n",
        "  axs[0].legend(['Train','Test'])\n",
        "\n",
        "\n",
        "  axs[1].plot(train_acc,color='blue')\n",
        "  axs[1].plot(test_acc,color='green')\n",
        "  axs[1].set_title('Accuracy top1')\n",
        "  axs[1].legend(['Train','Test'])\n",
        "\n",
        "\n",
        "  axs[2].plot(train_top5_list,color='blue')\n",
        "  axs[2].plot(test_top5_list,color='green')\n",
        "  axs[2].set_title('Accuracy top5')\n",
        "  axs[2].legend(['Train','Test'])\n",
        "\n",
        "\n",
        "  fig.set_size_inches(30, 10)\n",
        "\n",
        "\n",
        "  plt.show()\n",
        "\n",
        "  return"
      ],
      "execution_count": null,
      "outputs": []
    },
    {
      "cell_type": "code",
      "metadata": {
        "id": "nkB2_6IL5TMR"
      },
      "source": [
        "apply_augmentation()"
      ],
      "execution_count": null,
      "outputs": []
    },
    {
      "cell_type": "code",
      "metadata": {
        "colab": {
          "base_uri": "https://localhost:8080/"
        },
        "id": "7nesenpLqkGj",
        "outputId": "4834c428-cd9d-400b-9bdb-4de5db6a0c4a"
      },
      "source": [
        "print(\"augmented\")"
      ],
      "execution_count": null,
      "outputs": [
        {
          "output_type": "stream",
          "text": [
            "augmented\n"
          ],
          "name": "stdout"
        }
      ]
    },
    {
      "cell_type": "code",
      "metadata": {
        "id": "mTWBWMYfqqdv"
      },
      "source": [
        "import torch\n",
        "import torch.nn as nn\n",
        "import torch.nn.functional as F\n",
        "import torchvision\n",
        "import torchvision.transforms as transforms\n",
        "from torch.optim import SGD"
      ],
      "execution_count": null,
      "outputs": []
    },
    {
      "cell_type": "code",
      "metadata": {
        "id": "TPTFgNRrqyjw"
      },
      "source": [
        "BATCH_SIZE = 64\n",
        "\n",
        "# transformations\n",
        "transform = transforms.Compose([\n",
        "        transforms.ToTensor(),\n",
        "        transforms.Normalize(mean=[0.485, 0.456, 0.406], std=[0.229, 0.224, 0.225]),\n",
        "        ])\n",
        "\n",
        "# download and load training dataset\n",
        "trainset = torchvision.datasets.ImageFolder('/content/Data/Train', transform=transform)\n",
        "trainloader = torch.utils.data.DataLoader(trainset, batch_size=BATCH_SIZE,\n",
        "                                          shuffle=True, num_workers=2)\n",
        "\n",
        "testset = torchvision.datasets.ImageFolder('/content/Data/Test', transform=transform)\n",
        "testloader = torch.utils.data.DataLoader(testset, batch_size=BATCH_SIZE,\n",
        "                                         shuffle=False, num_workers=2)"
      ],
      "execution_count": null,
      "outputs": []
    },
    {
      "cell_type": "code",
      "metadata": {
        "id": "ccudKRfcqymO"
      },
      "source": [
        "model = nn.Sequential(\n",
        "    #no.1\n",
        "    nn.Conv2d(in_channels=3, out_channels=96, kernel_size=11, stride=4),  \n",
        "    nn.ReLU(),\n",
        "    nn.LocalResponseNorm(size=5, alpha=0.0001, beta=0.75, k=2),  \n",
        "    nn.MaxPool2d(kernel_size=4, stride=4),  \n",
        "    \n",
        "    nn.AdaptiveAvgPool2d(output_size=(6, 6)),\n",
        "    nn.Flatten(),\n",
        "\n",
        "    #no.7\n",
        "    nn.Dropout(p=0.5, inplace=True),\n",
        "    nn.Linear(in_features=3456, out_features=3456),\n",
        "    nn.ReLU(),\n",
        "\n",
        "    #no.8\n",
        "    nn.Linear(in_features=3456, out_features=len(class_names)),\n",
        "    )"
      ],
      "execution_count": null,
      "outputs": []
    },
    {
      "cell_type": "code",
      "metadata": {
        "colab": {
          "base_uri": "https://localhost:8080/"
        },
        "id": "FZdX2Y0xqyo1",
        "outputId": "cdab0508-8af7-41c0-b523-6b198df5e275"
      },
      "source": [
        "# test the model with 1 batch\n",
        "for images, labels in trainloader:\n",
        "    print(\"batch size:\", images.shape)\n",
        "    out = model(images)\n",
        "    print(out.shape)\n",
        "    break"
      ],
      "execution_count": null,
      "outputs": [
        {
          "output_type": "stream",
          "text": [
            "batch size: torch.Size([64, 3, 224, 224])\n",
            "torch.Size([64, 15])\n"
          ],
          "name": "stdout"
        }
      ]
    },
    {
      "cell_type": "code",
      "metadata": {
        "id": "Cv7PubotqyrF"
      },
      "source": [
        "#function: compute accuracy\n",
        "def get_accuracy(output, target, batch_size):\n",
        "    corrects = (torch.max(output, 1)[1].view(target.size()).data == target.data).sum()\n",
        "    accuracy = 100.0 * corrects/batch_size\n",
        "    return accuracy.item()"
      ],
      "execution_count": null,
      "outputs": []
    },
    {
      "cell_type": "code",
      "metadata": {
        "id": "2WUwCNG86fdH"
      },
      "source": [
        "def get_top5(output, target, topk=(1,5)):\n",
        "    maxk = max(topk)  \n",
        "\n",
        "    _, pred = torch.topk(input=output, k=5, dim=1, largest=True, sorted=True)\n",
        "    pred = pred.t()\n",
        "\n",
        "    target_reshaped = target.view(1, -1).expand_as(pred)  \n",
        "    correct = (pred == target_reshaped)\n",
        "\n",
        "\n",
        "    sum1 = torch.sum(correct, 1)\n",
        "    sum2 = torch.sum(sum1)\n",
        "\n",
        "    return sum2 *100.0 / BATCH_SIZE"
      ],
      "execution_count": null,
      "outputs": []
    },
    {
      "cell_type": "code",
      "metadata": {
        "id": "vUm5_5qWsuQX"
      },
      "source": [
        "learning_rate = 0.005\n",
        "num_epochs = 40\n",
        "\n",
        "\n",
        "device = torch.device(\"cuda:0\" if torch.cuda.is_available() else \"cpu\")\n",
        "model=model.to(device)\n",
        "\n",
        "\n",
        "criterion = nn.CrossEntropyLoss()\n",
        "optimizer = SGD(model.parameters(), lr=learning_rate, momentum=0.6)\n",
        "\n",
        "lmbda = lambda epoch: 0.95\n",
        "scheduler = torch.optim.lr_scheduler.MultiplicativeLR(optimizer, lr_lambda=lmbda)\n"
      ],
      "execution_count": null,
      "outputs": []
    },
    {
      "cell_type": "code",
      "metadata": {
        "id": "yt3gF5L1W8iA"
      },
      "source": [
        "all_train_loss=[]\n",
        "all_train_acc=[]\n",
        "\n",
        "all_test_acc=[]\n",
        "all_test_loss=[]\n",
        "\n",
        "train_top5_list=[]\n",
        "test_top5_list=[]"
      ],
      "execution_count": null,
      "outputs": []
    },
    {
      "cell_type": "code",
      "metadata": {
        "colab": {
          "base_uri": "https://localhost:8080/"
        },
        "id": "IG9RPFq3swnq",
        "outputId": "671da97b-f191-4110-e901-ac190cbf0f4d"
      },
      "source": [
        "for epoch in range(num_epochs):\n",
        "    train_running_loss = 0.0\n",
        "    train_acc = 0.0\n",
        "    train_top5_acc = 0.0\n",
        "\n",
        "    model = model.train()\n",
        "\n",
        "    for i, (images, labels) in enumerate(trainloader):\n",
        "        \n",
        "        images = images.to(device)\n",
        "        labels = labels.to(device)\n",
        "\n",
        "        logits = model(images)\n",
        "        loss = criterion(logits, labels)\n",
        "        optimizer.zero_grad()\n",
        "        loss.backward()\n",
        "\n",
        "        optimizer.step()\n",
        "\n",
        "        train_running_loss += loss.detach().item()\n",
        "        train_acc += get_accuracy(logits, labels, BATCH_SIZE)\n",
        "        train_top5_acc += get_top5(logits, labels)\n",
        "\n",
        "\n",
        "    model.eval()\n",
        "\n",
        "    test_acc = 0.0\n",
        "    test_running_loss = 0.0\n",
        "    test_top5_acc = 0.0\n",
        "    for j, (images, labels) in enumerate(testloader, 0):\n",
        "\n",
        "      images = images.to(device)\n",
        "      labels = labels.to(device)\n",
        "      \n",
        "      outputs = model(images)\n",
        "      loss = criterion(outputs, labels)\n",
        "\n",
        "      test_running_loss += loss.detach().item()\n",
        "      test_acc += get_accuracy(outputs, labels, BATCH_SIZE)\n",
        "      test_top5_acc += get_top5(outputs, labels)\n",
        "\n",
        "\n",
        "    scheduler.step()\n",
        "\n",
        "    all_train_loss.append(train_running_loss /i )\n",
        "    all_train_acc.append(train_acc/i)\n",
        "    train_top5_list.append(train_top5_acc/i)\n",
        "\n",
        "    all_test_loss.append(test_running_loss/j)\n",
        "    all_test_acc.append(test_acc/j)\n",
        "    test_top5_list.append(test_top5_acc/j)\n",
        "\n",
        "    print('Epoch: %d | Loss: %.4f | Train Accuracy: %.2f | Test Accuracy: %.2f | Test loss: %.4f' \\\n",
        "          %(epoch, train_running_loss / i, train_acc/i, test_acc/j, test_running_loss/j))"
      ],
      "execution_count": null,
      "outputs": [
        {
          "output_type": "stream",
          "text": [
            "Epoch: 0 | Loss: 2.4385 | Train Accuracy: 22.71 | Test Accuracy: 26.73 | Test loss: 2.3373\n",
            "Epoch: 1 | Loss: 2.0766 | Train Accuracy: 34.84 | Test Accuracy: 33.95 | Test loss: 2.0538\n",
            "Epoch: 2 | Loss: 1.8257 | Train Accuracy: 42.42 | Test Accuracy: 40.99 | Test loss: 1.8514\n",
            "Epoch: 3 | Loss: 1.6224 | Train Accuracy: 48.59 | Test Accuracy: 42.67 | Test loss: 1.8186\n",
            "Epoch: 4 | Loss: 1.4952 | Train Accuracy: 51.67 | Test Accuracy: 51.81 | Test loss: 1.5341\n",
            "Epoch: 5 | Loss: 1.3825 | Train Accuracy: 55.20 | Test Accuracy: 52.81 | Test loss: 1.5142\n",
            "Epoch: 6 | Loss: 1.3084 | Train Accuracy: 57.72 | Test Accuracy: 54.05 | Test loss: 1.4807\n",
            "Epoch: 7 | Loss: 1.2526 | Train Accuracy: 59.51 | Test Accuracy: 55.88 | Test loss: 1.3892\n",
            "Epoch: 8 | Loss: 1.1939 | Train Accuracy: 60.95 | Test Accuracy: 55.14 | Test loss: 1.4174\n",
            "Epoch: 9 | Loss: 1.1363 | Train Accuracy: 63.01 | Test Accuracy: 60.55 | Test loss: 1.2769\n",
            "Epoch: 10 | Loss: 1.0880 | Train Accuracy: 64.59 | Test Accuracy: 59.19 | Test loss: 1.2756\n",
            "Epoch: 11 | Loss: 1.0565 | Train Accuracy: 65.39 | Test Accuracy: 62.05 | Test loss: 1.2159\n",
            "Epoch: 12 | Loss: 1.0205 | Train Accuracy: 66.56 | Test Accuracy: 62.87 | Test loss: 1.1929\n",
            "Epoch: 13 | Loss: 0.9833 | Train Accuracy: 67.45 | Test Accuracy: 61.95 | Test loss: 1.1761\n",
            "Epoch: 14 | Loss: 0.9671 | Train Accuracy: 68.15 | Test Accuracy: 62.42 | Test loss: 1.1744\n",
            "Epoch: 15 | Loss: 0.9353 | Train Accuracy: 69.52 | Test Accuracy: 64.68 | Test loss: 1.1157\n",
            "Epoch: 16 | Loss: 0.9128 | Train Accuracy: 69.93 | Test Accuracy: 64.40 | Test loss: 1.1152\n",
            "Epoch: 17 | Loss: 0.8920 | Train Accuracy: 71.01 | Test Accuracy: 66.47 | Test loss: 1.0711\n",
            "Epoch: 18 | Loss: 0.8768 | Train Accuracy: 71.36 | Test Accuracy: 64.94 | Test loss: 1.0957\n",
            "Epoch: 19 | Loss: 0.8510 | Train Accuracy: 71.88 | Test Accuracy: 65.98 | Test loss: 1.0689\n",
            "Epoch: 20 | Loss: 0.8318 | Train Accuracy: 72.68 | Test Accuracy: 65.22 | Test loss: 1.1039\n",
            "Epoch: 21 | Loss: 0.8278 | Train Accuracy: 72.56 | Test Accuracy: 65.20 | Test loss: 1.1158\n",
            "Epoch: 22 | Loss: 0.8127 | Train Accuracy: 73.09 | Test Accuracy: 66.53 | Test loss: 1.0748\n",
            "Epoch: 23 | Loss: 0.8035 | Train Accuracy: 73.41 | Test Accuracy: 65.61 | Test loss: 1.0887\n",
            "Epoch: 24 | Loss: 0.7795 | Train Accuracy: 74.00 | Test Accuracy: 66.58 | Test loss: 1.0618\n",
            "Epoch: 25 | Loss: 0.7782 | Train Accuracy: 74.09 | Test Accuracy: 65.61 | Test loss: 1.0904\n",
            "Epoch: 26 | Loss: 0.7749 | Train Accuracy: 74.63 | Test Accuracy: 68.20 | Test loss: 1.0358\n",
            "Epoch: 27 | Loss: 0.7584 | Train Accuracy: 74.85 | Test Accuracy: 66.94 | Test loss: 1.0549\n",
            "Epoch: 28 | Loss: 0.7465 | Train Accuracy: 75.12 | Test Accuracy: 67.54 | Test loss: 1.0178\n",
            "Epoch: 29 | Loss: 0.7361 | Train Accuracy: 75.61 | Test Accuracy: 67.62 | Test loss: 1.0672\n",
            "Epoch: 30 | Loss: 0.7351 | Train Accuracy: 75.96 | Test Accuracy: 67.57 | Test loss: 1.0238\n",
            "Epoch: 31 | Loss: 0.7278 | Train Accuracy: 75.99 | Test Accuracy: 67.66 | Test loss: 1.0334\n",
            "Epoch: 32 | Loss: 0.7276 | Train Accuracy: 75.95 | Test Accuracy: 67.29 | Test loss: 1.0281\n",
            "Epoch: 33 | Loss: 0.7142 | Train Accuracy: 76.61 | Test Accuracy: 68.08 | Test loss: 1.0117\n",
            "Epoch: 34 | Loss: 0.7153 | Train Accuracy: 76.40 | Test Accuracy: 68.03 | Test loss: 1.0256\n",
            "Epoch: 35 | Loss: 0.7005 | Train Accuracy: 77.05 | Test Accuracy: 67.76 | Test loss: 1.0457\n",
            "Epoch: 36 | Loss: 0.7045 | Train Accuracy: 77.02 | Test Accuracy: 67.98 | Test loss: 1.0425\n",
            "Epoch: 37 | Loss: 0.6940 | Train Accuracy: 77.38 | Test Accuracy: 67.89 | Test loss: 1.0310\n",
            "Epoch: 38 | Loss: 0.6819 | Train Accuracy: 77.82 | Test Accuracy: 67.86 | Test loss: 1.0361\n",
            "Epoch: 39 | Loss: 0.6873 | Train Accuracy: 77.32 | Test Accuracy: 68.18 | Test loss: 1.0191\n"
          ],
          "name": "stdout"
        }
      ]
    },
    {
      "cell_type": "code",
      "metadata": {
        "id": "c43-DU9P4fHT",
        "colab": {
          "base_uri": "https://localhost:8080/",
          "height": 470
        },
        "outputId": "ca5c020b-26e5-49e1-b870-9e3144af0c28"
      },
      "source": [
        "plot_learned(all_train_loss,all_train_acc,all_test_loss,all_test_acc,train_top5_list, test_top5_list)"
      ],
      "execution_count": null,
      "outputs": [
        {
          "output_type": "display_data",
          "data": {
            "image/png": "[encoded data removed]",
            "text/plain": [
              "<Figure size 2160x720 with 3 Axes>"
            ]
          },
          "metadata": {
            "tags": [],
            "needs_background": "light"
          }
        }
      ]
    },
    {
      "cell_type": "code",
      "metadata": {
        "id": "sTn4Guisxaa1"
      },
      "source": [
        ""
      ],
      "execution_count": null,
      "outputs": []
    }
  ]
}