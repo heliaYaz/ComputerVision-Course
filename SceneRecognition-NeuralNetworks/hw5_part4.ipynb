{
  "nbformat": 4,
  "nbformat_minor": 0,
  "metadata": {
    "accelerator": "GPU",
    "colab": {
      "name": "hw5-part4.ipynb",
      "provenance": [],
      "collapsed_sections": []
    },
    "kernelspec": {
      "display_name": "Python 3",
      "name": "python3"
    },
    "language_info": {
      "name": "python"
    },
    "widgets": {
      "application/vnd.jupyter.widget-state+json": {
        "e8f0221affca406a861eb292f0cc228e": {
          "model_module": "@jupyter-widgets/controls",
          "model_name": "HBoxModel",
          "state": {
            "_view_name": "HBoxView",
            "_dom_classes": [],
            "_model_name": "HBoxModel",
            "_view_module": "@jupyter-widgets/controls",
            "_model_module_version": "1.5.0",
            "_view_count": null,
            "_view_module_version": "1.5.0",
            "box_style": "",
            "layout": "IPY_MODEL_6f5f365553d04c9fa038d765f458074c",
            "_model_module": "@jupyter-widgets/controls",
            "children": [
              "IPY_MODEL_06bc7be4b5ae483d8282c40af5d08e11",
              "IPY_MODEL_7ba58433784d4ea6a4eaadf5f7b445e0"
            ]
          }
        },
        "6f5f365553d04c9fa038d765f458074c": {
          "model_module": "@jupyter-widgets/base",
          "model_name": "LayoutModel",
          "state": {
            "_view_name": "LayoutView",
            "grid_template_rows": null,
            "right": null,
            "justify_content": null,
            "_view_module": "@jupyter-widgets/base",
            "overflow": null,
            "_model_module_version": "1.2.0",
            "_view_count": null,
            "flex_flow": null,
            "width": null,
            "min_width": null,
            "border": null,
            "align_items": null,
            "bottom": null,
            "_model_module": "@jupyter-widgets/base",
            "top": null,
            "grid_column": null,
            "overflow_y": null,
            "overflow_x": null,
            "grid_auto_flow": null,
            "grid_area": null,
            "grid_template_columns": null,
            "flex": null,
            "_model_name": "LayoutModel",
            "justify_items": null,
            "grid_row": null,
            "max_height": null,
            "align_content": null,
            "visibility": null,
            "align_self": null,
            "height": null,
            "min_height": null,
            "padding": null,
            "grid_auto_rows": null,
            "grid_gap": null,
            "max_width": null,
            "order": null,
            "_view_module_version": "1.2.0",
            "grid_template_areas": null,
            "object_position": null,
            "object_fit": null,
            "grid_auto_columns": null,
            "margin": null,
            "display": null,
            "left": null
          }
        },
        "06bc7be4b5ae483d8282c40af5d08e11": {
          "model_module": "@jupyter-widgets/controls",
          "model_name": "FloatProgressModel",
          "state": {
            "_view_name": "ProgressView",
            "style": "IPY_MODEL_c596d2f0a8354009aa8bc0867855213c",
            "_dom_classes": [],
            "description": "100%",
            "_model_name": "FloatProgressModel",
            "bar_style": "success",
            "max": 244408911,
            "_view_module": "@jupyter-widgets/controls",
            "_model_module_version": "1.5.0",
            "value": 244408911,
            "_view_count": null,
            "_view_module_version": "1.5.0",
            "orientation": "horizontal",
            "min": 0,
            "description_tooltip": null,
            "_model_module": "@jupyter-widgets/controls",
            "layout": "IPY_MODEL_d0fafd2458fe494fb1ef1c459a01a021"
          }
        },
        "7ba58433784d4ea6a4eaadf5f7b445e0": {
          "model_module": "@jupyter-widgets/controls",
          "model_name": "HTMLModel",
          "state": {
            "_view_name": "HTMLView",
            "style": "IPY_MODEL_8e9d1a968e624ebe9cebb0ddd1b55ad7",
            "_dom_classes": [],
            "description": "",
            "_model_name": "HTMLModel",
            "placeholder": "​",
            "_view_module": "@jupyter-widgets/controls",
            "_model_module_version": "1.5.0",
            "value": " 233M/233M [00:16&lt;00:00, 14.5MB/s]",
            "_view_count": null,
            "_view_module_version": "1.5.0",
            "description_tooltip": null,
            "_model_module": "@jupyter-widgets/controls",
            "layout": "IPY_MODEL_ec3049bbe8334749b2fcfc77cd37261f"
          }
        },
        "c596d2f0a8354009aa8bc0867855213c": {
          "model_module": "@jupyter-widgets/controls",
          "model_name": "ProgressStyleModel",
          "state": {
            "_view_name": "StyleView",
            "_model_name": "ProgressStyleModel",
            "description_width": "initial",
            "_view_module": "@jupyter-widgets/base",
            "_model_module_version": "1.5.0",
            "_view_count": null,
            "_view_module_version": "1.2.0",
            "bar_color": null,
            "_model_module": "@jupyter-widgets/controls"
          }
        },
        "d0fafd2458fe494fb1ef1c459a01a021": {
          "model_module": "@jupyter-widgets/base",
          "model_name": "LayoutModel",
          "state": {
            "_view_name": "LayoutView",
            "grid_template_rows": null,
            "right": null,
            "justify_content": null,
            "_view_module": "@jupyter-widgets/base",
            "overflow": null,
            "_model_module_version": "1.2.0",
            "_view_count": null,
            "flex_flow": null,
            "width": null,
            "min_width": null,
            "border": null,
            "align_items": null,
            "bottom": null,
            "_model_module": "@jupyter-widgets/base",
            "top": null,
            "grid_column": null,
            "overflow_y": null,
            "overflow_x": null,
            "grid_auto_flow": null,
            "grid_area": null,
            "grid_template_columns": null,
            "flex": null,
            "_model_name": "LayoutModel",
            "justify_items": null,
            "grid_row": null,
            "max_height": null,
            "align_content": null,
            "visibility": null,
            "align_self": null,
            "height": null,
            "min_height": null,
            "padding": null,
            "grid_auto_rows": null,
            "grid_gap": null,
            "max_width": null,
            "order": null,
            "_view_module_version": "1.2.0",
            "grid_template_areas": null,
            "object_position": null,
            "object_fit": null,
            "grid_auto_columns": null,
            "margin": null,
            "display": null,
            "left": null
          }
        },
        "8e9d1a968e624ebe9cebb0ddd1b55ad7": {
          "model_module": "@jupyter-widgets/controls",
          "model_name": "DescriptionStyleModel",
          "state": {
            "_view_name": "StyleView",
            "_model_name": "DescriptionStyleModel",
            "description_width": "",
            "_view_module": "@jupyter-widgets/base",
            "_model_module_version": "1.5.0",
            "_view_count": null,
            "_view_module_version": "1.2.0",
            "_model_module": "@jupyter-widgets/controls"
          }
        },
        "ec3049bbe8334749b2fcfc77cd37261f": {
          "model_module": "@jupyter-widgets/base",
          "model_name": "LayoutModel",
          "state": {
            "_view_name": "LayoutView",
            "grid_template_rows": null,
            "right": null,
            "justify_content": null,
            "_view_module": "@jupyter-widgets/base",
            "overflow": null,
            "_model_module_version": "1.2.0",
            "_view_count": null,
            "flex_flow": null,
            "width": null,
            "min_width": null,
            "border": null,
            "align_items": null,
            "bottom": null,
            "_model_module": "@jupyter-widgets/base",
            "top": null,
            "grid_column": null,
            "overflow_y": null,
            "overflow_x": null,
            "grid_auto_flow": null,
            "grid_area": null,
            "grid_template_columns": null,
            "flex": null,
            "_model_name": "LayoutModel",
            "justify_items": null,
            "grid_row": null,
            "max_height": null,
            "align_content": null,
            "visibility": null,
            "align_self": null,
            "height": null,
            "min_height": null,
            "padding": null,
            "grid_auto_rows": null,
            "grid_gap": null,
            "max_width": null,
            "order": null,
            "_view_module_version": "1.2.0",
            "grid_template_areas": null,
            "object_position": null,
            "object_fit": null,
            "grid_auto_columns": null,
            "margin": null,
            "display": null,
            "left": null
          }
        }
      }
    }
  },
  "cells": [
    {
      "cell_type": "code",
      "metadata": {
        "colab": {
          "base_uri": "https://localhost:8080/"
        },
        "id": "SgpU8XLLV7z_",
        "outputId": "4bc35653-3901-407c-987e-ad12c49c5b85"
      },
      "source": [
        "from google.colab import drive\n",
        "drive.mount('/content/gdrive')"
      ],
      "execution_count": 1,
      "outputs": [
        {
          "output_type": "stream",
          "text": [
            "Mounted at /content/gdrive\n"
          ],
          "name": "stdout"
        }
      ]
    },
    {
      "cell_type": "code",
      "metadata": {
        "id": "_-JA0-_HWCfl"
      },
      "source": [
        "!unzip gdrive/My\\ Drive/Data.zip"
      ],
      "execution_count": null,
      "outputs": []
    },
    {
      "cell_type": "code",
      "metadata": {
        "id": "Bx5KFSdcWGhP"
      },
      "source": [
        "class_names =['Bedroom','Coast','Forest','Highway','Industrial','Inside_City','Kitchen','Livingroom','Mountain','Office',\n",
        "              'Open_Country', 'Store', 'Street', 'Suburb', 'Tall_Building']"
      ],
      "execution_count": 3,
      "outputs": []
    },
    {
      "cell_type": "code",
      "metadata": {
        "id": "9kDKKontWISi"
      },
      "source": [
        "import os\n",
        "import cv2\n",
        "import numpy as np\n",
        "import matplotlib.pyplot as plt"
      ],
      "execution_count": 4,
      "outputs": []
    },
    {
      "cell_type": "code",
      "metadata": {
        "id": "6KNe2tj9WRm_"
      },
      "source": [
        "import torch\n",
        "import torch.nn as nn\n",
        "import torch.nn.functional as F\n",
        "import torchvision\n",
        "import torchvision.transforms as transforms\n",
        "from torch.optim import SGD"
      ],
      "execution_count": 5,
      "outputs": []
    },
    {
      "cell_type": "code",
      "metadata": {
        "id": "ZdC4an4hDyqU"
      },
      "source": [
        "def apply_augmentation():\n",
        "  for name in class_names:\n",
        "    path = '/content/Data/Train/' + name\n",
        "    dirListing = os.listdir(path)\n",
        "    for filename in dirListing:\n",
        "      im = cv2.imread('/content/Data/Train/' + name + '/'+filename)\n",
        "      im = cv2.resize(im,(32,32))\n",
        "      flipped = np.fliplr(im)\n",
        "      cv2.imwrite('/content/Data/Train/' + name + '/'+ \"flipped-\"+filename,flipped)\n",
        "\n",
        "\n",
        "  for name in class_names:\n",
        "    path = '/content/Data/Test/' + name\n",
        "    dirListing = os.listdir(path)\n",
        "    for filename in dirListing:\n",
        "      im = cv2.imread('/content/Data/Test/' + name + '/'+filename)\n",
        "      im = cv2.resize(im,(32,32))\n",
        "      flipped = np.fliplr(im)\n",
        "      cv2.imwrite('/content/Data/Test/' + name + '/'+ \"flipped-\"+filename,flipped)\n",
        "\n",
        "  return"
      ],
      "execution_count": 6,
      "outputs": []
    },
    {
      "cell_type": "code",
      "metadata": {
        "id": "x0I6w7vCDzuw"
      },
      "source": [
        "def plot_learned(train_loss, train_acc, test_loss, test_acc, train_top5_list, test_top5_list):\n",
        "\n",
        "  fig, axs = plt.subplots(1,3)\n",
        " \n",
        "  axs[0].plot(train_loss,color='blue')\n",
        "  axs[0].plot(test_loss,color='green')\n",
        "  axs[0].set_title('Loss')\n",
        "  axs[0].legend(['Train','Test'])\n",
        "\n",
        "\n",
        "  axs[1].plot(train_acc,color='blue')\n",
        "  axs[1].plot(test_acc,color='green')\n",
        "  axs[1].set_title('Accuracy top1')\n",
        "  axs[1].legend(['Train','Test'])\n",
        "\n",
        "\n",
        "  axs[2].plot(train_top5_list,color='blue')\n",
        "  axs[2].plot(test_top5_list,color='green')\n",
        "  axs[2].set_title('Accuracy top5')\n",
        "  axs[2].legend(['Train','Test'])\n",
        "\n",
        "\n",
        "  fig.set_size_inches(30, 8)\n",
        "\n",
        "\n",
        "  plt.show()\n",
        "\n",
        "  return"
      ],
      "execution_count": 7,
      "outputs": []
    },
    {
      "cell_type": "code",
      "metadata": {
        "id": "Nbn5SZGpEkje"
      },
      "source": [
        "# apply_augmentation()"
      ],
      "execution_count": 8,
      "outputs": []
    },
    {
      "cell_type": "code",
      "metadata": {
        "id": "UKRUTNb0WTNG"
      },
      "source": [
        "BATCH_SIZE = 64\n",
        "\n",
        "# transformations\n",
        "transform = transforms.Compose([\n",
        "        transforms.Resize((227,227)),\n",
        "        transforms.ToTensor(),\n",
        "        transforms.Normalize(mean=[0.485, 0.456, 0.406], std=[0.229, 0.224, 0.225]),\n",
        "        ])\n",
        "\n",
        "# download and load training dataset\n",
        "trainset = torchvision.datasets.ImageFolder('/content/Data/Train', transform=transform)\n",
        "trainloader = torch.utils.data.DataLoader(trainset, batch_size=BATCH_SIZE,\n",
        "                                          shuffle=True, num_workers=2)\n",
        "\n",
        "testset = torchvision.datasets.ImageFolder('/content/Data/Test', transform=transform)\n",
        "testloader = torch.utils.data.DataLoader(testset, batch_size=BATCH_SIZE,\n",
        "                                         shuffle=False, num_workers=2)"
      ],
      "execution_count": 9,
      "outputs": []
    },
    {
      "cell_type": "code",
      "metadata": {
        "id": "VcHH6pElwNW1"
      },
      "source": [
        "def get_accuracy(logit, target, batch_size):\n",
        "    corrects = (torch.max(logit, 1)[1].view(target.size()).data == target.data).sum()\n",
        "    acc = 100.0 * corrects/batch_size\n",
        "\n",
        "    return acc.item()"
      ],
      "execution_count": 10,
      "outputs": []
    },
    {
      "cell_type": "code",
      "metadata": {
        "id": "g0bHVQn7mlmr"
      },
      "source": [
        "def get_top5(output, target, topk=(1,5)):\n",
        "    maxk = max(topk)  \n",
        "\n",
        "    _, pred = torch.topk(input=output, k=5, dim=1, largest=True, sorted=True)\n",
        "    pred = pred.t()\n",
        "\n",
        "    target_reshaped = target.view(1, -1).expand_as(pred)  \n",
        "    correct = (pred == target_reshaped)\n",
        "\n",
        "\n",
        "    sum1 = torch.sum(correct, 1)\n",
        "    sum2 = torch.sum(sum1)\n",
        "\n",
        "    return sum2 *100.0 / BATCH_SIZE"
      ],
      "execution_count": 11,
      "outputs": []
    },
    {
      "cell_type": "code",
      "metadata": {
        "id": "LyuUnHLkYLj5",
        "colab": {
          "base_uri": "https://localhost:8080/",
          "height": 103,
          "referenced_widgets": [
            "e8f0221affca406a861eb292f0cc228e",
            "6f5f365553d04c9fa038d765f458074c",
            "06bc7be4b5ae483d8282c40af5d08e11",
            "7ba58433784d4ea6a4eaadf5f7b445e0",
            "c596d2f0a8354009aa8bc0867855213c",
            "d0fafd2458fe494fb1ef1c459a01a021",
            "8e9d1a968e624ebe9cebb0ddd1b55ad7",
            "ec3049bbe8334749b2fcfc77cd37261f"
          ]
        },
        "outputId": "f7a24dd7-9cd7-45dc-e627-87e3eece2760"
      },
      "source": [
        "#loading alexnet model\n",
        "alexnet_model = torchvision.models.alexnet(pretrained=True)"
      ],
      "execution_count": 12,
      "outputs": [
        {
          "output_type": "stream",
          "text": [
            "Downloading: \"https://download.pytorch.org/models/alexnet-owt-7be5be79.pth\" to /root/.cache/torch/hub/checkpoints/alexnet-owt-7be5be79.pth\n"
          ],
          "name": "stderr"
        },
        {
          "output_type": "display_data",
          "data": {
            "application/vnd.jupyter.widget-view+json": {
              "model_id": "e8f0221affca406a861eb292f0cc228e",
              "version_minor": 0,
              "version_major": 2
            },
            "text/plain": [
              "HBox(children=(FloatProgress(value=0.0, max=244408911.0), HTML(value='')))"
            ]
          },
          "metadata": {
            "tags": []
          }
        },
        {
          "output_type": "stream",
          "text": [
            "\n"
          ],
          "name": "stdout"
        }
      ]
    },
    {
      "cell_type": "code",
      "metadata": {
        "id": "VVOH1UeUaO1o"
      },
      "source": [
        "#Model description\n",
        "# alexnet_model.eval()"
      ],
      "execution_count": 13,
      "outputs": []
    },
    {
      "cell_type": "code",
      "metadata": {
        "id": "zPY_J1nDo0wY"
      },
      "source": [
        "#freezing all layers except last one\n",
        "for param in alexnet_model.parameters():\n",
        "    param.requires_grad = False\n",
        "   \n",
        "#unfreezing last layer\n",
        "alexnet_model.classifier[6]=nn.Linear(in_features=4096, out_features=15, bias=True)"
      ],
      "execution_count": 14,
      "outputs": []
    },
    {
      "cell_type": "code",
      "metadata": {
        "colab": {
          "base_uri": "https://localhost:8080/"
        },
        "id": "SitjTbn_kNb2",
        "outputId": "cddea3c1-072a-43c5-8d4c-46f771e21656"
      },
      "source": [
        "from torchsummary import summary\n",
        "\n",
        "device = torch.device(\"cuda:0\" if torch.cuda.is_available() else \"cpu\")\n",
        "alexnet_model=alexnet_model.to(device)\n",
        "\n",
        "summary(alexnet_model, (3, 224, 224))"
      ],
      "execution_count": 15,
      "outputs": [
        {
          "output_type": "stream",
          "text": [
            "----------------------------------------------------------------\n",
            "        Layer (type)               Output Shape         Param #\n",
            "================================================================\n",
            "            Conv2d-1           [-1, 64, 55, 55]          23,296\n",
            "              ReLU-2           [-1, 64, 55, 55]               0\n",
            "         MaxPool2d-3           [-1, 64, 27, 27]               0\n",
            "            Conv2d-4          [-1, 192, 27, 27]         307,392\n",
            "              ReLU-5          [-1, 192, 27, 27]               0\n",
            "         MaxPool2d-6          [-1, 192, 13, 13]               0\n",
            "            Conv2d-7          [-1, 384, 13, 13]         663,936\n",
            "              ReLU-8          [-1, 384, 13, 13]               0\n",
            "            Conv2d-9          [-1, 256, 13, 13]         884,992\n",
            "             ReLU-10          [-1, 256, 13, 13]               0\n",
            "           Conv2d-11          [-1, 256, 13, 13]         590,080\n",
            "             ReLU-12          [-1, 256, 13, 13]               0\n",
            "        MaxPool2d-13            [-1, 256, 6, 6]               0\n",
            "AdaptiveAvgPool2d-14            [-1, 256, 6, 6]               0\n",
            "          Dropout-15                 [-1, 9216]               0\n",
            "           Linear-16                 [-1, 4096]      37,752,832\n",
            "             ReLU-17                 [-1, 4096]               0\n",
            "          Dropout-18                 [-1, 4096]               0\n",
            "           Linear-19                 [-1, 4096]      16,781,312\n",
            "             ReLU-20                 [-1, 4096]               0\n",
            "           Linear-21                   [-1, 15]          61,455\n",
            "================================================================\n",
            "Total params: 57,065,295\n",
            "Trainable params: 61,455\n",
            "Non-trainable params: 57,003,840\n",
            "----------------------------------------------------------------\n",
            "Input size (MB): 0.57\n",
            "Forward/backward pass size (MB): 8.37\n",
            "Params size (MB): 217.69\n",
            "Estimated Total Size (MB): 226.63\n",
            "----------------------------------------------------------------\n"
          ],
          "name": "stdout"
        },
        {
          "output_type": "stream",
          "text": [
            "/usr/local/lib/python3.7/dist-packages/torch/nn/functional.py:718: UserWarning: Named tensors and all their associated APIs are an experimental feature and subject to change. Please do not use them for anything important until they are released as stable. (Triggered internally at  /pytorch/c10/core/TensorImpl.h:1156.)\n",
            "  return torch.max_pool2d(input, kernel_size, stride, padding, dilation, ceil_mode)\n"
          ],
          "name": "stderr"
        }
      ]
    },
    {
      "cell_type": "code",
      "metadata": {
        "id": "loL1W8C8a5Mr"
      },
      "source": [
        "learning_rate = 0.001\n",
        "num_epochs = 50\n",
        "\n",
        "device = torch.device(\"cuda:0\" if torch.cuda.is_available() else \"cpu\")\n",
        "alexnet_model=alexnet_model.to(device)\n",
        "\n",
        "criterion = nn.CrossEntropyLoss()\n",
        "optimizer = SGD(alexnet_model.parameters(), lr=learning_rate, momentum=0.5)\n",
        "\n",
        "lmbda = lambda epoch: 0.95\n",
        "scheduler = torch.optim.lr_scheduler.MultiplicativeLR(optimizer, lr_lambda=lmbda)"
      ],
      "execution_count": 16,
      "outputs": []
    },
    {
      "cell_type": "code",
      "metadata": {
        "id": "a4-2IfBx1XP4"
      },
      "source": [
        "all_train_loss=[]\n",
        "all_train_acc=[]\n",
        "\n",
        "all_test_acc=[]\n",
        "all_test_loss=[]\n",
        "\n",
        "\n",
        "train_top5_list=[]\n",
        "test_top5_list=[]"
      ],
      "execution_count": 17,
      "outputs": []
    },
    {
      "cell_type": "code",
      "metadata": {
        "colab": {
          "base_uri": "https://localhost:8080/"
        },
        "id": "WFPbsXTj0ZKI",
        "outputId": "b3165945-3c22-4a96-b6ff-7ac1d26be5eb"
      },
      "source": [
        "for epoch in range(num_epochs):\n",
        "\n",
        "    alexnet_model.train()\n",
        "\n",
        "    train_running_loss = 0.0\n",
        "    train_acc = 0.0\n",
        "    train_top5_acc = 0.0\n",
        "\n",
        "\n",
        "    # training step\n",
        "    for i, (images, labels) in enumerate(trainloader):\n",
        "        images = images.to(device)\n",
        "        labels = labels.to(device)\n",
        "\n",
        "        logits = alexnet_model(images)\n",
        "        loss = criterion(logits, labels)\n",
        "\n",
        "        optimizer.zero_grad()\n",
        "        loss.backward()\n",
        "\n",
        "        # update model params\n",
        "        optimizer.step()\n",
        "\n",
        "        train_running_loss += loss.detach().item()\n",
        "        train_acc += get_accuracy(logits, labels, BATCH_SIZE)\n",
        "        train_top5_acc += get_top5(logits, labels)\n",
        "\n",
        "        \n",
        "    alexnet_model.eval()\n",
        "\n",
        "    test_acc = 0.0\n",
        "    test_running_loss = 0.0\n",
        "    test_top5_acc =0.0\n",
        "\n",
        "    \n",
        "    for j, (images, labels) in enumerate(testloader, 0):\n",
        "      images = images.to(device)\n",
        "      labels = labels.to(device)\n",
        "\n",
        "      outputs = alexnet_model(images)\n",
        "      loss = criterion(outputs, labels)\n",
        "\n",
        "      test_running_loss += loss.detach().item()\n",
        "      test_acc += get_accuracy(outputs, labels, BATCH_SIZE)\n",
        "      test_top5_acc += get_top5(outputs, labels)\n",
        "\n",
        "\n",
        "    scheduler.step()\n",
        "\n",
        "    all_train_loss.append(train_running_loss /i )\n",
        "    all_train_acc.append(train_acc/i)\n",
        "    train_top5_list.append(train_top5_acc/(i))\n",
        "\n",
        "    all_test_loss.append(test_running_loss/j)\n",
        "    all_test_acc.append(test_acc/j)\n",
        "    test_top5_list.append(test_top5_acc/j)\n",
        "\n",
        "    print('Epoch: %d | Loss: %.4f | Train Accuracy: %.2f | Test Accuracy: %.2f | Test loss: %.4f' \\\n",
        "          %(epoch, train_running_loss / i, train_acc/i, test_acc/j, test_running_loss/j)) "
      ],
      "execution_count": 20,
      "outputs": [
        {
          "output_type": "stream",
          "text": [
            "Epoch: 0 | Loss: 0.3080 | Train Accuracy: 92.22 | Test Accuracy: 88.72 | Test loss: 0.4133\n",
            "Epoch: 1 | Loss: 0.3072 | Train Accuracy: 91.95 | Test Accuracy: 88.72 | Test loss: 0.4128\n",
            "Epoch: 2 | Loss: 0.3159 | Train Accuracy: 92.12 | Test Accuracy: 88.72 | Test loss: 0.4119\n",
            "Epoch: 3 | Loss: 0.3102 | Train Accuracy: 91.64 | Test Accuracy: 88.86 | Test loss: 0.4114\n",
            "Epoch: 4 | Loss: 0.3040 | Train Accuracy: 91.98 | Test Accuracy: 88.79 | Test loss: 0.4106\n",
            "Epoch: 5 | Loss: 0.3042 | Train Accuracy: 92.49 | Test Accuracy: 88.99 | Test loss: 0.4104\n",
            "Epoch: 6 | Loss: 0.3045 | Train Accuracy: 92.02 | Test Accuracy: 88.99 | Test loss: 0.4106\n",
            "Epoch: 7 | Loss: 0.3066 | Train Accuracy: 92.29 | Test Accuracy: 88.86 | Test loss: 0.4099\n",
            "Epoch: 8 | Loss: 0.3010 | Train Accuracy: 92.32 | Test Accuracy: 88.79 | Test loss: 0.4097\n",
            "Epoch: 9 | Loss: 0.3048 | Train Accuracy: 92.63 | Test Accuracy: 88.86 | Test loss: 0.4095\n"
          ],
          "name": "stdout"
        }
      ]
    },
    {
      "cell_type": "code",
      "metadata": {
        "colab": {
          "base_uri": "https://localhost:8080/",
          "height": 388
        },
        "id": "vglJpOHIwCpU",
        "outputId": "dad24ccc-0d4d-4926-9404-eb864bae9fb7"
      },
      "source": [
        "plot_learned(all_train_loss,all_train_acc,all_test_loss,all_test_acc,train_top5_list, test_top5_list)"
      ],
      "execution_count": 21,
      "outputs": [
        {
          "output_type": "display_data",
          "data": {
            "image/png": "[encoded data removed]",
            "text/plain": [
              "<Figure size 2160x576 with 3 Axes>"
            ]
          },
          "metadata": {
            "tags": [],
            "needs_background": "light"
          }
        }
      ]
    },
    {
      "cell_type": "code",
      "metadata": {
        "id": "fnSeyebIG-x2"
      },
      "source": [
        ""
      ],
      "execution_count": null,
      "outputs": []
    }
  ]
}